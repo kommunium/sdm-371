{
 "cells": [
  {
   "cell_type": "markdown",
   "source": [
    "# Big Data Lab Assignment Week 2 Q1\r\n",
    "\r\n",
    "> By HUANG Guanchao, SID 11912309, from the School of Microelectronics.\r\n",
    "\r\n",
    "In this assignment, we're trying to select a group of pokemon according to a specific metric.\r\n"
   ],
   "metadata": {}
  },
  {
   "cell_type": "markdown",
   "source": [
    "## Define function\r\n",
    "\r\n",
    "In this lab assignment, my consideration is, create a group of pokemon that has the highest resistivity against any arbitrary categories of pokemon. Similar to the code presented in the class, the strategy is .\r\n",
    "\r\n"
   ],
   "metadata": {}
  },
  {
   "cell_type": "code",
   "execution_count": null,
   "source": [],
   "outputs": [],
   "metadata": {}
  },
  {
   "cell_type": "markdown",
   "source": [
    "## Select Pokemon\r\n",
    "\r\n"
   ],
   "metadata": {}
  }
 ],
 "metadata": {
  "orig_nbformat": 4,
  "language_info": {
   "name": "python",
   "version": "3.8.11",
   "mimetype": "text/x-python",
   "codemirror_mode": {
    "name": "ipython",
    "version": 3
   },
   "pygments_lexer": "ipython3",
   "nbconvert_exporter": "python",
   "file_extension": ".py"
  },
  "kernelspec": {
   "name": "python3",
   "display_name": "Python 3.8.11 64-bit ('base': conda)"
  },
  "interpreter": {
   "hash": "bdaa857bc09f1b7cc84f9d99d32428c9a15ebf9bd25003aee15ce6d296468210"
  }
 },
 "nbformat": 4,
 "nbformat_minor": 2
}